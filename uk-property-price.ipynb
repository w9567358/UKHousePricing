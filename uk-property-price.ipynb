{
 "cells": [
  {
   "cell_type": "markdown",
   "id": "1530548f",
   "metadata": {
    "papermill": {
     "duration": 0.006595,
     "end_time": "2023-10-15T08:58:40.495098",
     "exception": false,
     "start_time": "2023-10-15T08:58:40.488503",
     "status": "completed"
    },
    "tags": []
   },
   "source": [
    "# Importing libraries and loading data"
   ]
  },
  {
   "cell_type": "code",
   "execution_count": 1,
   "id": "505bbd3d",
   "metadata": {
    "papermill": {
     "duration": 59.274946,
     "end_time": "2023-10-15T08:59:39.776375",
     "exception": false,
     "start_time": "2023-10-15T08:58:40.501429",
     "status": "completed"
    },
    "tags": []
   },
   "outputs": [],
   "source": [
    "# Install Python packages using pip.\n",
    "\n",
    "# The \"!pip\" command allows you to run shell commands in Jupyter Notebook or Colab cells.\n",
    "# It is used here to install Python packages.\n",
    "# The \"-q\" flag stands for \"quiet,\" which means it will suppress output during installation.\n",
    "# \"feature_engine,\" \"autoviz,\" and \"dataprep\" are the packages being installed.\n",
    "# The \"2>/dev/null\" part redirects any error messages (stderr) to the null device, effectively silencing them.\n",
    "# This is often used when you want to hide installation messages.\n",
    "!pip install -q feature_engine autoviz dataprep 2>/dev/null"
   ]
  },
  {
   "cell_type": "code",
   "execution_count": 2,
   "id": "c0ea74c4",
   "metadata": {
    "papermill": {
     "duration": 13.794394,
     "end_time": "2023-10-15T08:59:53.577110",
     "exception": false,
     "start_time": "2023-10-15T08:59:39.782716",
     "status": "completed"
    },
    "tags": []
   },
   "outputs": [
    {
     "ename": "ModuleNotFoundError",
     "evalue": "No module named 'numpy'",
     "output_type": "error",
     "traceback": [
      "\u001b[0;31m---------------------------------------------------------------------------\u001b[0m",
      "\u001b[0;31mModuleNotFoundError\u001b[0m                       Traceback (most recent call last)",
      "Cell \u001b[0;32mIn[2], line 2\u001b[0m\n\u001b[1;32m      1\u001b[0m \u001b[38;5;66;03m# Import necessary libraries\u001b[39;00m\n\u001b[0;32m----> 2\u001b[0m \u001b[38;5;28;01mimport\u001b[39;00m \u001b[38;5;21;01mnumpy\u001b[39;00m \u001b[38;5;28;01mas\u001b[39;00m \u001b[38;5;21;01mnp\u001b[39;00m  \u001b[38;5;66;03m# Import NumPy for handling numerical operations\u001b[39;00m\n\u001b[1;32m      3\u001b[0m \u001b[38;5;28;01mimport\u001b[39;00m \u001b[38;5;21;01mpandas\u001b[39;00m \u001b[38;5;28;01mas\u001b[39;00m \u001b[38;5;21;01mpd\u001b[39;00m  \u001b[38;5;66;03m# Import Pandas for data manipulation and analysis\u001b[39;00m\n\u001b[1;32m      4\u001b[0m \u001b[38;5;28;01mimport\u001b[39;00m \u001b[38;5;21;01mwarnings\u001b[39;00m  \u001b[38;5;66;03m# Import Warnings to suppress unnecessary warnings\u001b[39;00m\n",
      "\u001b[0;31mModuleNotFoundError\u001b[0m: No module named 'numpy'"
     ]
    }
   ],
   "source": [
    "# Import necessary libraries\n",
    "import numpy as np  # Import NumPy for handling numerical operations\n",
    "import pandas as pd  # Import Pandas for data manipulation and analysis\n",
    "import warnings  # Import Warnings to suppress unnecessary warnings\n",
    "\n",
    "# Suppress warning messages\n",
    "warnings.filterwarnings(\"ignore\")\n",
    "\n",
    "# Import AutoViz from the autoviz library for automated visualization of data\n",
    "from autoviz import AutoViz_Class\n",
    "\n",
    "# Import load_dataset and create_report from the dataprep library for data loading and EDA\n",
    "from dataprep.datasets import load_dataset\n",
    "from dataprep.eda import create_report\n",
    "\n",
    "# Import SHAP for interpreting model predictions\n",
    "import shap\n",
    "\n",
    "# Import matplotlib for data visualization\n",
    "import matplotlib.pyplot as plt\n",
    "\n",
    "# Import CatBoostRegressor for building a regression model\n",
    "from catboost import Pool, CatBoostRegressor\n",
    "\n",
    "# Import mean_squared_error for evaluating model performance\n",
    "from sklearn.metrics import mean_squared_error\n",
    "\n",
    "# Import train_test_split for splitting the data into training and testing sets\n",
    "from sklearn.model_selection import train_test_split\n",
    "\n",
    "# Import RareLabelEncoder from feature_engine.encoding for encoding categorical features\n",
    "from feature_engine.encoding import RareLabelEncoder\n",
    "\n",
    "# Import CountVectorizer from sklearn.feature_extraction.text for text feature extraction\n",
    "from sklearn.feature_extraction.text import CountVectorizer\n",
    "\n",
    "# Import ast and re for working with text and regular expressions\n",
    "import ast\n",
    "import re\n",
    "\n",
    "# Import gc for garbage collection\n",
    "import gc\n",
    "\n",
    "# Set Pandas options to display a maximum of 1000 rows\n",
    "pd.set_option('display.max_rows', 1000)"
   ]
  },
  {
   "cell_type": "code",
   "execution_count": null,
   "id": "4196350f",
   "metadata": {
    "papermill": {
     "duration": 394.467026,
     "end_time": "2023-10-15T09:06:28.280046",
     "exception": false,
     "start_time": "2023-10-15T08:59:53.813020",
     "status": "completed"
    },
    "tags": []
   },
   "outputs": [],
   "source": [
    "%%time\n",
    "\n",
    "# Load the raw data\n",
    "# taken from https://www.kaggle.com/code/lorentzyeung/starter-notebook-for-uk-property-price-paid-data\n",
    "\n",
    "colnames=['Transaction_unique_identifier', 'price', 'Date_of_Transfer', \n",
    "          'postcode', 'Property_Type', 'Old/New', \n",
    "          'Duration', 'PAON', 'SAON', \n",
    "          'Street', 'Locality', 'Town/City', \n",
    "          'District', 'County', 'PPDCategory_Type',\n",
    "          'Record_Status - monthly_file_only'\n",
    "          ] \n",
    "\n",
    "df = pd.read_csv('/kaggle/input/price-paid-data-202304/202304.csv',\n",
    "                  header=None,\n",
    "                 names=colnames,\n",
    "                 infer_datetime_format=True,\n",
    "                 parse_dates=[\"Date_of_Transfer\"],\n",
    "                 dayfirst=False\n",
    "                 ).drop(['Transaction_unique_identifier'], axis=1)\n",
    "\n",
    "# Reads the CSV file into a Pandas DataFrame\n",
    "item0 = df.shape[0]  # Stores the initial number of rows in the DataFrame\n",
    "df = df.drop_duplicates()  # Removes duplicate rows from the DataFrame\n",
    "item1 = df.shape[0]  # Stores the number of rows after removing duplicates\n",
    "print(f\"There are {item0-item1} duplicates found in the dataset\")  # Prints the number of duplicates that were removed\n",
    "\n",
    "df['log10_price'] = df['price'].apply(lambda x: np.log10(x))\n",
    "\n",
    "df['Year'] = df['Date_of_Transfer'].dt.year\n",
    "df['Location'] = df['Street'].fillna('None') + ', ' + df['Locality'].fillna('None') + ', ' + df['Town/City'].fillna('None') + ', ' + df['District'].fillna('None') + ', ' + df['County'].fillna('None')\n",
    "df['Location'] = df['Location'].str.lower()\n",
    "\n",
    "selected_cols = ['log10_price', 'Year', 'Property_Type', 'Old/New', 'Duration', 'Location', 'PPDCategory_Type']"
   ]
  },
  {
   "cell_type": "code",
   "execution_count": null,
   "id": "f8c9d8b7",
   "metadata": {
    "papermill": {
     "duration": 21.833531,
     "end_time": "2023-10-15T09:06:50.310148",
     "exception": false,
     "start_time": "2023-10-15T09:06:28.476617",
     "status": "completed"
    },
    "tags": []
   },
   "outputs": [],
   "source": [
    "df = df[selected_cols]\n",
    "print(df.shape)\n",
    "df.sample(5).T"
   ]
  },
  {
   "cell_type": "code",
   "execution_count": null,
   "id": "5939a05f",
   "metadata": {
    "papermill": {
     "duration": 12.517832,
     "end_time": "2023-10-15T09:07:03.026696",
     "exception": false,
     "start_time": "2023-10-15T09:06:50.508864",
     "status": "completed"
    },
    "tags": []
   },
   "outputs": [],
   "source": [
    "# Use the smaller random subsample of data to accelerate the process\n",
    "df = df.sample(frac=0.25)\n",
    "gc.collect()"
   ]
  },
  {
   "cell_type": "code",
   "execution_count": null,
   "id": "d783f5e3",
   "metadata": {
    "papermill": {
     "duration": 0.211107,
     "end_time": "2023-10-15T09:07:03.440260",
     "exception": false,
     "start_time": "2023-10-15T09:07:03.229153",
     "status": "completed"
    },
    "tags": []
   },
   "outputs": [],
   "source": [
    "df.columns"
   ]
  },
  {
   "cell_type": "code",
   "execution_count": null,
   "id": "a4b23b61",
   "metadata": {
    "papermill": {
     "duration": 8.842659,
     "end_time": "2023-10-15T09:07:12.476566",
     "exception": false,
     "start_time": "2023-10-15T09:07:03.633907",
     "status": "completed"
    },
    "tags": []
   },
   "outputs": [],
   "source": [
    "df.nunique()"
   ]
  },
  {
   "cell_type": "code",
   "execution_count": null,
   "id": "7ea23373",
   "metadata": {
    "papermill": {
     "duration": 0.216069,
     "end_time": "2023-10-15T09:07:12.895132",
     "exception": false,
     "start_time": "2023-10-15T09:07:12.679063",
     "status": "completed"
    },
    "tags": []
   },
   "outputs": [],
   "source": [
    "df.info()"
   ]
  },
  {
   "cell_type": "code",
   "execution_count": null,
   "id": "a6ab71cc",
   "metadata": {
    "papermill": {
     "duration": 8.533805,
     "end_time": "2023-10-15T09:07:21.623377",
     "exception": false,
     "start_time": "2023-10-15T09:07:13.089572",
     "status": "completed"
    },
    "tags": []
   },
   "outputs": [],
   "source": [
    "df['Location'].value_counts().head(30)"
   ]
  },
  {
   "cell_type": "markdown",
   "id": "1c731b27",
   "metadata": {
    "papermill": {
     "duration": 0.208851,
     "end_time": "2023-10-15T09:07:22.046302",
     "exception": false,
     "start_time": "2023-10-15T09:07:21.837451",
     "status": "completed"
    },
    "tags": []
   },
   "source": [
    "# Data visualisation"
   ]
  },
  {
   "cell_type": "code",
   "execution_count": null,
   "id": "5c04347b",
   "metadata": {
    "papermill": {
     "duration": 3.692299,
     "end_time": "2023-10-15T09:07:25.937360",
     "exception": false,
     "start_time": "2023-10-15T09:07:22.245061",
     "status": "completed"
    },
    "tags": []
   },
   "outputs": [],
   "source": [
    "# An update taken from the nice work https://www.kaggle.com/code/anshtanwar/auto-eda-missing-migrants-interactive-charts \n",
    "# made by @anshtanwar\n",
    "\n",
    "# Import the AutoViz_Class\n",
    "# This class is used for automated exploratory data analysis and visualization.\n",
    "AV = AutoViz_Class()\n",
    "\n",
    "# Initialize variables\n",
    "filename = \"\"  # Specify the filename of the dataset (empty in this case)\n",
    "target_variable = 'log10_price'  # Specify the target variable for analysis\n",
    "custom_plot_dir = \"custom_plot_directory\"  # Specify the directory to save custom plots\n",
    "\n",
    "# Perform automated EDA using the AutoViz library\n",
    "# The following parameters are used:\n",
    "# - filename: Empty in this case as the data is provided directly as 'df'\n",
    "# - sep: Delimiter used in the data (comma in this case)\n",
    "# - depVar: Target variable for analysis ('rating' in this case)\n",
    "# - dfte: DataFrame to be analyzed ('df' is assumed to be defined earlier)\n",
    "# - header: Indicates that the first row contains column names (0 for True)\n",
    "# - verbose: Verbosity level (1 for verbose output)\n",
    "# - lowess: Smoothing using Lowess algorithm (False for no smoothing)\n",
    "# - chart_format: Format in which charts will be generated (HTML format in this case)\n",
    "# - max_rows_analyzed: Maximum number of rows to analyze (up to 10,000 rows)\n",
    "# - max_cols_analyzed: Maximum number of columns to analyze (up to 50 columns)\n",
    "# - save_plot_dir: Directory to save the generated plots ('custom_plot_directory' in this case)\n",
    "dft = AV.AutoViz(\n",
    "    filename,\n",
    "    sep=\",\",\n",
    "    depVar=target_variable,\n",
    "    dfte=df,\n",
    "    header=0,\n",
    "    verbose=1,\n",
    "    lowess=False,\n",
    "    chart_format=\"html\",\n",
    "    max_rows_analyzed=min([df.shape[0], 10**4]),\n",
    "    max_cols_analyzed=min([df.shape[1], 50]),\n",
    "    save_plot_dir=custom_plot_dir\n",
    ")"
   ]
  },
  {
   "cell_type": "code",
   "execution_count": null,
   "id": "7151d67e",
   "metadata": {
    "papermill": {
     "duration": 0.243894,
     "end_time": "2023-10-15T09:07:26.415812",
     "exception": false,
     "start_time": "2023-10-15T09:07:26.171918",
     "status": "completed"
    },
    "tags": []
   },
   "outputs": [],
   "source": [
    "# Import the necessary library for displaying HTML content\n",
    "from IPython.core.display import display, HTML\n",
    "\n",
    "# Import the pathlib library to work with file paths\n",
    "from pathlib import Path\n",
    "\n",
    "# Initialize an empty list to store file names\n",
    "file_names = []\n",
    "\n",
    "# Use pathlib to iterate through HTML files in a specific directory\n",
    "for file in Path(f'/kaggle/working/{custom_plot_dir}/{target_variable}/').glob('*.html'):\n",
    "    \n",
    "    # Extract the filename from the full path and add it to the list\n",
    "    filename = str(file).split('/')[-1]\n",
    "    file_names.append(filename)\n",
    "\n",
    "# Iterate through the list of file names and display each HTML file\n",
    "for file_name in file_names:\n",
    "    \n",
    "    # Construct the full file path for each HTML file\n",
    "    file_path = f'/kaggle/working/{custom_plot_dir}/{target_variable}/{file_name}'\n",
    "    \n",
    "    # Open the HTML file for reading\n",
    "    with open(file_path, 'r') as file:\n",
    "        \n",
    "        # Read the content of the HTML file\n",
    "        html_content = file.read()\n",
    "        \n",
    "        # Display the HTML content using IPython\n",
    "        display(HTML(html_content))"
   ]
  },
  {
   "cell_type": "code",
   "execution_count": null,
   "id": "30613b54",
   "metadata": {
    "papermill": {
     "duration": 6.764025,
     "end_time": "2023-10-15T09:07:33.411073",
     "exception": false,
     "start_time": "2023-10-15T09:07:26.647048",
     "status": "completed"
    },
    "tags": []
   },
   "outputs": [],
   "source": [
    "create_report(df.sample(10**4))"
   ]
  },
  {
   "cell_type": "markdown",
   "id": "7f5643fa",
   "metadata": {
    "papermill": {
     "duration": 0.426091,
     "end_time": "2023-10-15T09:07:34.297362",
     "exception": false,
     "start_time": "2023-10-15T09:07:33.871271",
     "status": "completed"
    },
    "tags": []
   },
   "source": [
    "# Data transformation"
   ]
  },
  {
   "cell_type": "code",
   "execution_count": null,
   "id": "9cc010a2",
   "metadata": {
    "papermill": {
     "duration": 0.420251,
     "end_time": "2023-10-15T09:07:35.129389",
     "exception": false,
     "start_time": "2023-10-15T09:07:34.709138",
     "status": "completed"
    },
    "tags": []
   },
   "outputs": [],
   "source": [
    "# Accessing DataFrame columns\n",
    "# This line of code retrieves the column names from a DataFrame called 'df'.\n",
    "# It allows you to access and work with the names of the columns in the DataFrame.\n",
    "\n",
    "df.columns"
   ]
  },
  {
   "cell_type": "code",
   "execution_count": null,
   "id": "002b8771",
   "metadata": {
    "papermill": {
     "duration": 0.934509,
     "end_time": "2023-10-15T09:07:36.477534",
     "exception": false,
     "start_time": "2023-10-15T09:07:35.543025",
     "status": "completed"
    },
    "tags": []
   },
   "outputs": [],
   "source": [
    "df.sample(5).T"
   ]
  },
  {
   "cell_type": "code",
   "execution_count": null,
   "id": "f2f00dc4",
   "metadata": {
    "papermill": {
     "duration": 0.447762,
     "end_time": "2023-10-15T09:07:37.349020",
     "exception": false,
     "start_time": "2023-10-15T09:07:36.901258",
     "status": "completed"
    },
    "tags": []
   },
   "outputs": [],
   "source": [
    "# Display information about the DataFrame 'df'\n",
    "# This includes the data types, non-null values, and memory usage\n",
    "# Useful for getting a quick overview of the dataset's structure\n",
    "df.info()"
   ]
  },
  {
   "cell_type": "code",
   "execution_count": null,
   "id": "e673c05a",
   "metadata": {
    "papermill": {
     "duration": 85.852441,
     "end_time": "2023-10-15T09:09:03.609311",
     "exception": false,
     "start_time": "2023-10-15T09:07:37.756870",
     "status": "completed"
    },
    "tags": []
   },
   "outputs": [],
   "source": [
    "%%time\n",
    "\n",
    "# Select the main label.\n",
    "main_label = 'log10_price'\n",
    "\n",
    "# Set up a rare label encoder for selected columns.\n",
    "for col in ['Property_Type', 'Old/New', 'Duration', 'Location', 'PPDCategory_Type']:\n",
    "    df[col] = df[col].fillna('None')\n",
    "    encoder = RareLabelEncoder(n_categories=1, max_n_categories=150, replace_with='Other', tol=50.0 / df.shape[0])\n",
    "    df[col] = encoder.fit_transform(df[[col]])\n",
    "    print(f\"LabelEncoded column {col}\")\n",
    "\n",
    "print(df.shape)  # Print the shape of the resulting DataFrame.\n",
    "df.sample(5).T  # Display a sample of 5 rows, transposed for easier readability."
   ]
  },
  {
   "cell_type": "code",
   "execution_count": null,
   "id": "2897e3bb",
   "metadata": {
    "papermill": {
     "duration": 0.792428,
     "end_time": "2023-10-15T09:09:04.850769",
     "exception": false,
     "start_time": "2023-10-15T09:09:04.058341",
     "status": "completed"
    },
    "tags": []
   },
   "outputs": [],
   "source": [
    "gc.collect()"
   ]
  },
  {
   "cell_type": "markdown",
   "id": "8ee1aa93",
   "metadata": {
    "papermill": {
     "duration": 0.420296,
     "end_time": "2023-10-15T09:09:05.683078",
     "exception": false,
     "start_time": "2023-10-15T09:09:05.262782",
     "status": "completed"
    },
    "tags": []
   },
   "source": [
    "# Machine learning"
   ]
  },
  {
   "cell_type": "code",
   "execution_count": null,
   "id": "27241fb0",
   "metadata": {
    "papermill": {
     "duration": 1.720113,
     "end_time": "2023-10-15T09:09:07.845281",
     "exception": false,
     "start_time": "2023-10-15T09:09:06.125168",
     "status": "completed"
    },
    "tags": []
   },
   "outputs": [],
   "source": [
    "%%time\n",
    "# Initialize data\n",
    "# Extract the values of the 'main_label' column and reshape it into a 1D array as 'y'\n",
    "y = df[main_label].values.reshape(-1,)\n",
    "\n",
    "# Create the feature matrix 'X' by dropping the 'main_label' column from the DataFrame 'df'\n",
    "X = df.drop([main_label], axis=1)\n",
    "\n",
    "# Identify categorical columns in the DataFrame 'df'\n",
    "# These columns contain non-numeric data\n",
    "cat_cols = df.select_dtypes(include=['object']).columns\n",
    "\n",
    "del df\n",
    "gc.collect()"
   ]
  },
  {
   "cell_type": "code",
   "execution_count": null,
   "id": "33735290",
   "metadata": {
    "papermill": {
     "duration": 46.236322,
     "end_time": "2023-10-15T09:09:54.529613",
     "exception": false,
     "start_time": "2023-10-15T09:09:08.293291",
     "status": "completed"
    },
    "tags": []
   },
   "outputs": [],
   "source": [
    "%%time\n",
    "\n",
    "# Create a list of indices for categorical columns in the feature matrix 'X'\n",
    "cat_cols_idx = [list(X.columns).index(c) for c in cat_cols]\n",
    "\n",
    "# Split the data into training and testing sets\n",
    "# - 'X_train' and 'y_train' will contain the training features and labels, respectively\n",
    "# - 'X_test' and 'y_test' will contain the testing features and labels, respectively\n",
    "# The split is done with a 20% test size, a random seed of 0, and stratification based on the selected column(s)\n",
    "X_train, X_test, y_train, y_test = train_test_split(X, y, test_size=0.20, random_state=0, stratify=X[['Location']])\n",
    "\n",
    "del X, y\n",
    "gc.collect()\n",
    "\n",
    "# Print the dimensions of the training and testing sets\n",
    "# This provides insight into the sizes of the datasets\n",
    "print(X_train.shape, X_test.shape, y_train.shape, y_test.shape)"
   ]
  },
  {
   "cell_type": "code",
   "execution_count": null,
   "id": "7fc8f861",
   "metadata": {
    "papermill": {
     "duration": 80.930574,
     "end_time": "2023-10-15T09:11:15.887658",
     "exception": false,
     "start_time": "2023-10-15T09:09:54.957084",
     "status": "completed"
    },
    "tags": []
   },
   "outputs": [],
   "source": [
    "%%time\n",
    "\n",
    "# Initialize the training and testing data pools using CatBoost's Pool class\n",
    "train_pool = Pool(X_train, \n",
    "                  y_train, \n",
    "                  cat_features=cat_cols_idx)  # Create a training data pool with categorical features\n",
    "test_pool = Pool(X_test,\n",
    "                 y_test,\n",
    "                 cat_features=cat_cols_idx)  # Create a testing data pool with categorical features\n",
    "\n",
    "# Specify the training parameters for the CatBoostRegressor model\n",
    "model = CatBoostRegressor(iterations=100,    # Number of boosting iterations\n",
    "                          depth=5,           # Maximum depth of trees in the ensemble\n",
    "                          verbose=1,         # Set verbosity level to 0 (no output during training)\n",
    "                          learning_rate=0.2,  # Learning rate for gradient boosting\n",
    "                          loss_function='RMSE')  # Loss function to optimize (Root Mean Squared Error)\n",
    "\n",
    "# Train the CatBoostRegressor model on the training data\n",
    "model.fit(train_pool)\n",
    "\n",
    "# Make predictions using the trained model on both the training and testing data\n",
    "y_train_pred = model.predict(train_pool)  # Predictions on the training data\n",
    "y_test_pred = model.predict(test_pool)    # Predictions on the testing data\n",
    "\n",
    "# Calculate and print the Root Mean Squared Error (RMSE) scores for training and testing data\n",
    "rmse_train = mean_squared_error(y_train, y_train_pred, squared=False)  # RMSE for training data\n",
    "rmse_test = mean_squared_error(y_test, y_test_pred, squared=False)     # RMSE for testing data\n",
    "\n",
    "# Print the RMSE scores rounded to three decimal places\n",
    "print(f\"RMSE score for train {round(rmse_train, 3)} dex, and for test {round(rmse_test, 3)} dex\")"
   ]
  },
  {
   "cell_type": "code",
   "execution_count": null,
   "id": "adc7c865",
   "metadata": {
    "papermill": {
     "duration": 0.892883,
     "end_time": "2023-10-15T09:11:17.209976",
     "exception": false,
     "start_time": "2023-10-15T09:11:16.317093",
     "status": "completed"
    },
    "tags": []
   },
   "outputs": [],
   "source": [
    "# Calculate the baseline RMSE (Root Mean Squared Error) scores for the training and test datasets.\n",
    "\n",
    "# For the training dataset:\n",
    "\n",
    "# Calculate the RMSE by comparing the actual target values (y_train) with the predicted values,\n",
    "# where the predicted values are the mean of the training target values repeated for each data sample.\n",
    "rmse_bs_train = mean_squared_error(y_train, [np.mean(y_train)]*len(y_train), squared=False)\n",
    "\n",
    "# For the test dataset:\n",
    "\n",
    "# Calculate the RMSE by comparing the actual target values (y_test) with the predicted values,\n",
    "# where the predicted values are the mean of the training target values repeated for each test data sample.\n",
    "rmse_bs_test = mean_squared_error(y_test, [np.mean(y_train)]*len(y_test), squared=False)\n",
    "\n",
    "# Print the baseline RMSE scores for both the training and test datasets, rounded to 3 decimal places.\n",
    "print(f\"RMSE baseline score for train {round(rmse_bs_train, 3)} dex, and for test {round(rmse_bs_test, 3)} dex\")"
   ]
  },
  {
   "cell_type": "markdown",
   "id": "8858e2ba",
   "metadata": {
    "papermill": {
     "duration": 0.416374,
     "end_time": "2023-10-15T09:11:18.055849",
     "exception": false,
     "start_time": "2023-10-15T09:11:17.639475",
     "status": "completed"
    },
    "tags": []
   },
   "source": [
    "# Explanations with SHAP values"
   ]
  },
  {
   "cell_type": "code",
   "execution_count": null,
   "id": "e5359444",
   "metadata": {
    "papermill": {
     "duration": 0.436202,
     "end_time": "2023-10-15T09:11:18.907848",
     "exception": false,
     "start_time": "2023-10-15T09:11:18.471646",
     "status": "completed"
    },
    "tags": []
   },
   "outputs": [],
   "source": [
    "%matplotlib inline"
   ]
  },
  {
   "cell_type": "code",
   "execution_count": null,
   "id": "3eca4564",
   "metadata": {
    "papermill": {
     "duration": 89.674528,
     "end_time": "2023-10-15T09:12:48.996176",
     "exception": false,
     "start_time": "2023-10-15T09:11:19.321648",
     "status": "completed"
    },
    "tags": []
   },
   "outputs": [],
   "source": [
    "%%time\n",
    "# Initialize the SHAP library for visualization\n",
    "shap.initjs()\n",
    "\n",
    "# Create a TreeExplainer object for the 'model' (assumes 'model' is a tree-based model like a Random Forest or XGBoost)\n",
    "ex = shap.TreeExplainer(model)\n",
    "\n",
    "# Calculate SHAP values for the 'X_test' data using the TreeExplainer\n",
    "shap_values = ex.shap_values(X_test)\n",
    "\n",
    "# Generate a summary plot to visualize the impact of features on model predictions\n",
    "shap.summary_plot(shap_values, X_test)"
   ]
  },
  {
   "cell_type": "code",
   "execution_count": null,
   "id": "0f1bd2b5",
   "metadata": {
    "papermill": {
     "duration": 0.465775,
     "end_time": "2023-10-15T09:12:49.928284",
     "exception": false,
     "start_time": "2023-10-15T09:12:49.462509",
     "status": "completed"
    },
    "tags": []
   },
   "outputs": [],
   "source": [
    "# Calculate the expected values (e.g., predicted ratings) using a variable named 'ex.expected_value'.\n",
    "expected_values = ex.expected_value\n",
    "\n",
    "# Print the average predicted label.\n",
    "print(f\"Average predicted price is {round(10**expected_values):,} GBP\")\n",
    "\n",
    "# Calculate the average actual label from 'y_test'.\n",
    "actual_rating_avg = round(10**np.mean(y_test))\n",
    "\n",
    "# Print the average actual label.\n",
    "print(f\"Average actual price is {actual_rating_avg:,} GBP\")"
   ]
  },
  {
   "cell_type": "code",
   "execution_count": null,
   "id": "9f77c146",
   "metadata": {
    "papermill": {
     "duration": 6.485871,
     "end_time": "2023-10-15T09:12:56.898589",
     "exception": false,
     "start_time": "2023-10-15T09:12:50.412718",
     "status": "completed"
    },
    "tags": []
   },
   "outputs": [],
   "source": [
    "# Define a function named 'show_shap' that visualizes SHAP values for a specific feature.\n",
    "# Parameters:\n",
    "#   - col: The name of the feature for which SHAP values will be visualized.\n",
    "#   - shap_values: SHAP values calculated for the model's predictions.\n",
    "#   - label: The label to be displayed in the plot title.\n",
    "#   - X_test: The DataFrame containing the test data.\n",
    "#   - ylabel: The label for the y-axis in the plot (default is 'points').\n",
    "def show_shap(col, shap_values=shap_values, label=main_label, X_test=X_test, ylabel='dex'):\n",
    "    # Create a copy of the test data DataFrame.\n",
    "    df_infl = X_test.copy()\n",
    "    \n",
    "    # Add a new column 'shap_' to the DataFrame containing SHAP values for the specified feature.\n",
    "    df_infl['shap_'] = shap_values[:, df_infl.columns.tolist().index(col)]\n",
    "    \n",
    "    # Calculate the mean SHAP values and standard deviation grouped by the specified feature.\n",
    "    gain = round(df_infl.groupby(col)['shap_'].mean(), 4)\n",
    "    gain_std = round(df_infl.groupby(col)['shap_'].std(), 4)\n",
    "    \n",
    "    # Count the number of data points for each category of the specified feature.\n",
    "    cnt = df_infl.groupby(col)['shap_'].count()\n",
    "    \n",
    "    # Create a dictionary containing the feature, mean SHAP values, standard deviation, and count.\n",
    "    dd_dict = {'col': list(gain.index), 'gain': list(gain.values), 'gain_std': list(gain_std.values), 'count': cnt}\n",
    "    \n",
    "    # Create a DataFrame from the dictionary and sort it by 'gain' in descending order.\n",
    "    df_res = pd.DataFrame.from_dict(dd_dict).sort_values('gain', ascending=False).set_index('col')\n",
    "    \n",
    "    # Create a plot to visualize the SHAP values with error bars.\n",
    "    plt.figure(figsize=(24, 16))\n",
    "    plt.errorbar(df_res.index, df_res['gain'], yerr=df_res['gain_std'], fmt=\"o\", color=\"r\")\n",
    "    \n",
    "    # Set plot title and axis labels.\n",
    "    plt.title(f'SHAP values for column {col}, label {label}')\n",
    "    plt.ylabel(ylabel)\n",
    "    plt.tick_params(axis=\"x\", rotation=90)\n",
    "    \n",
    "    # Display the plot and the DataFrame with results.\n",
    "    plt.show()\n",
    "    print(df_res)\n",
    "    \n",
    "    # Return the function.\n",
    "    return\n",
    "\n",
    "# Loop through the columns in the test data.\n",
    "for col in X_test.columns:\n",
    "    print()  # Print an empty line for better readability.\n",
    "    print(col)  # Print the name of the current column.\n",
    "    print()  # Print another empty line for separation.\n",
    "\n",
    "    # Call the 'show_shap' function to visualize SHAP values for the current column.\n",
    "    show_shap(col, shap_values, label=main_label, X_test=X_test)"
   ]
  },
  {
   "cell_type": "code",
   "execution_count": null,
   "id": "cb6520a0",
   "metadata": {
    "papermill": {
     "duration": 0.449861,
     "end_time": "2023-10-15T09:12:57.873281",
     "exception": false,
     "start_time": "2023-10-15T09:12:57.423420",
     "status": "completed"
    },
    "tags": []
   },
   "outputs": [],
   "source": []
  },
  {
   "cell_type": "code",
   "execution_count": null,
   "id": "6d71ef94-fdd1-4b04-9347-36489715bee8",
   "metadata": {},
   "outputs": [],
   "source": []
  }
 ],
 "metadata": {
  "kernelspec": {
   "display_name": "Python 3 (ipykernel)",
   "language": "python",
   "name": "python3"
  },
  "language_info": {
   "codemirror_mode": {
    "name": "ipython",
    "version": 3
   },
   "file_extension": ".py",
   "mimetype": "text/x-python",
   "name": "python",
   "nbconvert_exporter": "python",
   "pygments_lexer": "ipython3",
   "version": "3.12.0"
  },
  "papermill": {
   "default_parameters": {},
   "duration": 864.130642,
   "end_time": "2023-10-15T09:13:01.466295",
   "environment_variables": {},
   "exception": null,
   "input_path": "__notebook__.ipynb",
   "output_path": "__notebook__.ipynb",
   "parameters": {},
   "start_time": "2023-10-15T08:58:37.335653",
   "version": "2.4.0"
  },
  "widgets": {
   "application/vnd.jupyter.widget-state+json": {
    "state": {
     "1418751418884a36bd3f37621ed2867c": {
      "model_module": "@jupyter-widgets/base",
      "model_module_version": "1.2.0",
      "model_name": "LayoutModel",
      "state": {
       "_model_module": "@jupyter-widgets/base",
       "_model_module_version": "1.2.0",
       "_model_name": "LayoutModel",
       "_view_count": null,
       "_view_module": "@jupyter-widgets/base",
       "_view_module_version": "1.2.0",
       "_view_name": "LayoutView",
       "align_content": null,
       "align_items": null,
       "align_self": null,
       "border": null,
       "bottom": null,
       "display": "inline-flex",
       "flex": null,
       "flex_flow": "row wrap",
       "grid_area": null,
       "grid_auto_columns": null,
       "grid_auto_flow": null,
       "grid_auto_rows": null,
       "grid_column": null,
       "grid_gap": null,
       "grid_row": null,
       "grid_template_areas": null,
       "grid_template_columns": null,
       "grid_template_rows": null,
       "height": null,
       "justify_content": null,
       "justify_items": null,
       "left": null,
       "margin": null,
       "max_height": null,
       "max_width": null,
       "min_height": null,
       "min_width": null,
       "object_fit": null,
       "object_position": null,
       "order": null,
       "overflow": null,
       "overflow_x": null,
       "overflow_y": null,
       "padding": null,
       "right": null,
       "top": null,
       "visibility": "hidden",
       "width": "100%"
      }
     },
     "19e567f105de4b448f472f8436304585": {
      "model_module": "@jupyter-widgets/base",
      "model_module_version": "1.2.0",
      "model_name": "LayoutModel",
      "state": {
       "_model_module": "@jupyter-widgets/base",
       "_model_module_version": "1.2.0",
       "_model_name": "LayoutModel",
       "_view_count": null,
       "_view_module": "@jupyter-widgets/base",
       "_view_module_version": "1.2.0",
       "_view_name": "LayoutView",
       "align_content": null,
       "align_items": null,
       "align_self": null,
       "border": null,
       "bottom": null,
       "display": null,
       "flex": null,
       "flex_flow": null,
       "grid_area": null,
       "grid_auto_columns": null,
       "grid_auto_flow": null,
       "grid_auto_rows": null,
       "grid_column": null,
       "grid_gap": null,
       "grid_row": null,
       "grid_template_areas": null,
       "grid_template_columns": null,
       "grid_template_rows": null,
       "height": null,
       "justify_content": null,
       "justify_items": null,
       "left": null,
       "margin": null,
       "max_height": null,
       "max_width": null,
       "min_height": null,
       "min_width": null,
       "object_fit": null,
       "object_position": null,
       "order": null,
       "overflow": null,
       "overflow_x": null,
       "overflow_y": null,
       "padding": null,
       "right": null,
       "top": null,
       "visibility": null,
       "width": null
      }
     },
     "4b883af9e0f1435c9abe1d3febf6f16c": {
      "model_module": "@jupyter-widgets/controls",
      "model_module_version": "1.5.0",
      "model_name": "HBoxModel",
      "state": {
       "_dom_classes": [],
       "_model_module": "@jupyter-widgets/controls",
       "_model_module_version": "1.5.0",
       "_model_name": "HBoxModel",
       "_view_count": null,
       "_view_module": "@jupyter-widgets/controls",
       "_view_module_version": "1.5.0",
       "_view_name": "HBoxView",
       "box_style": "",
       "children": [
        "IPY_MODEL_c346e1146ab34a789812c54df8f1d047",
        "IPY_MODEL_7b9880a2c4c44b8a9b3062858a59b396",
        "IPY_MODEL_92a34094f8ba4349b93673c8f69c766f"
       ],
       "layout": "IPY_MODEL_1418751418884a36bd3f37621ed2867c"
      }
     },
     "54af028a481249a59c8f6951827972e2": {
      "model_module": "@jupyter-widgets/controls",
      "model_module_version": "1.5.0",
      "model_name": "DescriptionStyleModel",
      "state": {
       "_model_module": "@jupyter-widgets/controls",
       "_model_module_version": "1.5.0",
       "_model_name": "DescriptionStyleModel",
       "_view_count": null,
       "_view_module": "@jupyter-widgets/base",
       "_view_module_version": "1.2.0",
       "_view_name": "StyleView",
       "description_width": ""
      }
     },
     "7b9880a2c4c44b8a9b3062858a59b396": {
      "model_module": "@jupyter-widgets/controls",
      "model_module_version": "1.5.0",
      "model_name": "FloatProgressModel",
      "state": {
       "_dom_classes": [],
       "_model_module": "@jupyter-widgets/controls",
       "_model_module_version": "1.5.0",
       "_model_name": "FloatProgressModel",
       "_view_count": null,
       "_view_module": "@jupyter-widgets/controls",
       "_view_module_version": "1.5.0",
       "_view_name": "ProgressView",
       "bar_style": "",
       "description": "",
       "description_tooltip": null,
       "layout": "IPY_MODEL_f66d4912de1c487db83496a13a22616e",
       "max": 873,
       "min": 0,
       "orientation": "horizontal",
       "style": "IPY_MODEL_81836f0edb224f7da27fc28c0abf9713",
       "value": 873
      }
     },
     "81836f0edb224f7da27fc28c0abf9713": {
      "model_module": "@jupyter-widgets/controls",
      "model_module_version": "1.5.0",
      "model_name": "ProgressStyleModel",
      "state": {
       "_model_module": "@jupyter-widgets/controls",
       "_model_module_version": "1.5.0",
       "_model_name": "ProgressStyleModel",
       "_view_count": null,
       "_view_module": "@jupyter-widgets/base",
       "_view_module_version": "1.2.0",
       "_view_name": "StyleView",
       "bar_color": null,
       "description_width": ""
      }
     },
     "92a34094f8ba4349b93673c8f69c766f": {
      "model_module": "@jupyter-widgets/controls",
      "model_module_version": "1.5.0",
      "model_name": "HTMLModel",
      "state": {
       "_dom_classes": [],
       "_model_module": "@jupyter-widgets/controls",
       "_model_module_version": "1.5.0",
       "_model_name": "HTMLModel",
       "_view_count": null,
       "_view_module": "@jupyter-widgets/controls",
       "_view_module_version": "1.5.0",
       "_view_name": "HTMLView",
       "description": "",
       "description_tooltip": null,
       "layout": "IPY_MODEL_19e567f105de4b448f472f8436304585",
       "placeholder": "​",
       "style": "IPY_MODEL_54af028a481249a59c8f6951827972e2",
       "value": " 756/873 [00:00&lt;00:00, 805.97it/s]"
      }
     },
     "c346e1146ab34a789812c54df8f1d047": {
      "model_module": "@jupyter-widgets/controls",
      "model_module_version": "1.5.0",
      "model_name": "HTMLModel",
      "state": {
       "_dom_classes": [],
       "_model_module": "@jupyter-widgets/controls",
       "_model_module_version": "1.5.0",
       "_model_name": "HTMLModel",
       "_view_count": null,
       "_view_module": "@jupyter-widgets/controls",
       "_view_module_version": "1.5.0",
       "_view_name": "HTMLView",
       "description": "",
       "description_tooltip": null,
       "layout": "IPY_MODEL_e8942bb25e02404bbda5afc80f8320e3",
       "placeholder": "​",
       "style": "IPY_MODEL_cea80e2212504efca2aacc92aec9524a",
       "value": "Computing truediv-bef843196853500be67dd02209eb837c:  87%"
      }
     },
     "cea80e2212504efca2aacc92aec9524a": {
      "model_module": "@jupyter-widgets/controls",
      "model_module_version": "1.5.0",
      "model_name": "DescriptionStyleModel",
      "state": {
       "_model_module": "@jupyter-widgets/controls",
       "_model_module_version": "1.5.0",
       "_model_name": "DescriptionStyleModel",
       "_view_count": null,
       "_view_module": "@jupyter-widgets/base",
       "_view_module_version": "1.2.0",
       "_view_name": "StyleView",
       "description_width": ""
      }
     },
     "e8942bb25e02404bbda5afc80f8320e3": {
      "model_module": "@jupyter-widgets/base",
      "model_module_version": "1.2.0",
      "model_name": "LayoutModel",
      "state": {
       "_model_module": "@jupyter-widgets/base",
       "_model_module_version": "1.2.0",
       "_model_name": "LayoutModel",
       "_view_count": null,
       "_view_module": "@jupyter-widgets/base",
       "_view_module_version": "1.2.0",
       "_view_name": "LayoutView",
       "align_content": null,
       "align_items": null,
       "align_self": null,
       "border": null,
       "bottom": null,
       "display": null,
       "flex": null,
       "flex_flow": null,
       "grid_area": null,
       "grid_auto_columns": null,
       "grid_auto_flow": null,
       "grid_auto_rows": null,
       "grid_column": null,
       "grid_gap": null,
       "grid_row": null,
       "grid_template_areas": null,
       "grid_template_columns": null,
       "grid_template_rows": null,
       "height": null,
       "justify_content": null,
       "justify_items": null,
       "left": null,
       "margin": null,
       "max_height": null,
       "max_width": null,
       "min_height": null,
       "min_width": null,
       "object_fit": null,
       "object_position": null,
       "order": null,
       "overflow": null,
       "overflow_x": null,
       "overflow_y": null,
       "padding": null,
       "right": null,
       "top": null,
       "visibility": null,
       "width": null
      }
     },
     "f66d4912de1c487db83496a13a22616e": {
      "model_module": "@jupyter-widgets/base",
      "model_module_version": "1.2.0",
      "model_name": "LayoutModel",
      "state": {
       "_model_module": "@jupyter-widgets/base",
       "_model_module_version": "1.2.0",
       "_model_name": "LayoutModel",
       "_view_count": null,
       "_view_module": "@jupyter-widgets/base",
       "_view_module_version": "1.2.0",
       "_view_name": "LayoutView",
       "align_content": null,
       "align_items": null,
       "align_self": null,
       "border": null,
       "bottom": null,
       "display": null,
       "flex": "2",
       "flex_flow": null,
       "grid_area": null,
       "grid_auto_columns": null,
       "grid_auto_flow": null,
       "grid_auto_rows": null,
       "grid_column": null,
       "grid_gap": null,
       "grid_row": null,
       "grid_template_areas": null,
       "grid_template_columns": null,
       "grid_template_rows": null,
       "height": null,
       "justify_content": null,
       "justify_items": null,
       "left": null,
       "margin": null,
       "max_height": null,
       "max_width": null,
       "min_height": null,
       "min_width": null,
       "object_fit": null,
       "object_position": null,
       "order": null,
       "overflow": null,
       "overflow_x": null,
       "overflow_y": null,
       "padding": null,
       "right": null,
       "top": null,
       "visibility": null,
       "width": null
      }
     }
    },
    "version_major": 2,
    "version_minor": 0
   }
  }
 },
 "nbformat": 4,
 "nbformat_minor": 5
}
